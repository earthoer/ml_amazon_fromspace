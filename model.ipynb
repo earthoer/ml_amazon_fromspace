{
  "nbformat": 4,
  "nbformat_minor": 0,
  "metadata": {
    "accelerator": "GPU",
    "colab": {
      "name": "model.ipynb",
      "provenance": [],
      "collapsed_sections": [],
      "machine_shape": "hm"
    },
    "interpreter": {
      "hash": "e7f32440430d7a9450f3928e2576a8b7bb0f79fb56d47bae8a5c079f909c2445"
    },
    "kernelspec": {
      "display_name": "Python 3.9.6 64-bit",
      "name": "python3"
    },
    "language_info": {
      "codemirror_mode": {
        "name": "ipython",
        "version": 3
      },
      "file_extension": ".py",
      "mimetype": "text/x-python",
      "name": "python",
      "nbconvert_exporter": "python",
      "pygments_lexer": "ipython3",
      "version": "3.9.6"
    }
  },
  "cells": [
    {
      "cell_type": "code",
      "metadata": {
        "id": "YW1YBrGPe2qC"
      },
      "source": [
        "!cd \"./drive/MyDrive/mlproject/\"\n"
      ],
      "execution_count": null,
      "outputs": []
    },
    {
      "cell_type": "code",
      "metadata": {
        "id": "hNlVH-_6e42y"
      },
      "source": [
        "!pip install -q kaggle"
      ],
      "execution_count": null,
      "outputs": []
    },
    {
      "cell_type": "code",
      "metadata": {
        "colab": {
          "base_uri": "https://localhost:8080/"
        },
        "id": "SUyc633JVaWg",
        "outputId": "cc17db87-dc9e-4262-8711-9cebcb338f8c"
      },
      "source": [
        "!pip install -q kaggle\n",
        "!pip install iterative_stratification -q\n",
        "!pip install tensorflow-addons"
      ],
      "execution_count": null,
      "outputs": [
        {
          "output_type": "stream",
          "name": "stdout",
          "text": [
            "Collecting tensorflow-addons\n",
            "  Downloading tensorflow_addons-0.15.0-cp37-cp37m-manylinux_2_12_x86_64.manylinux2010_x86_64.whl (1.1 MB)\n",
            "\u001b[?25l\r\u001b[K     |▎                               | 10 kB 30.2 MB/s eta 0:00:01\r\u001b[K     |▋                               | 20 kB 14.1 MB/s eta 0:00:01\r\u001b[K     |▉                               | 30 kB 10.1 MB/s eta 0:00:01\r\u001b[K     |█▏                              | 40 kB 8.6 MB/s eta 0:00:01\r\u001b[K     |█▌                              | 51 kB 4.3 MB/s eta 0:00:01\r\u001b[K     |█▊                              | 61 kB 4.7 MB/s eta 0:00:01\r\u001b[K     |██                              | 71 kB 4.6 MB/s eta 0:00:01\r\u001b[K     |██▍                             | 81 kB 5.2 MB/s eta 0:00:01\r\u001b[K     |██▋                             | 92 kB 5.0 MB/s eta 0:00:01\r\u001b[K     |███                             | 102 kB 4.2 MB/s eta 0:00:01\r\u001b[K     |███▎                            | 112 kB 4.2 MB/s eta 0:00:01\r\u001b[K     |███▌                            | 122 kB 4.2 MB/s eta 0:00:01\r\u001b[K     |███▉                            | 133 kB 4.2 MB/s eta 0:00:01\r\u001b[K     |████▏                           | 143 kB 4.2 MB/s eta 0:00:01\r\u001b[K     |████▍                           | 153 kB 4.2 MB/s eta 0:00:01\r\u001b[K     |████▊                           | 163 kB 4.2 MB/s eta 0:00:01\r\u001b[K     |█████                           | 174 kB 4.2 MB/s eta 0:00:01\r\u001b[K     |█████▎                          | 184 kB 4.2 MB/s eta 0:00:01\r\u001b[K     |█████▋                          | 194 kB 4.2 MB/s eta 0:00:01\r\u001b[K     |█████▉                          | 204 kB 4.2 MB/s eta 0:00:01\r\u001b[K     |██████▏                         | 215 kB 4.2 MB/s eta 0:00:01\r\u001b[K     |██████▌                         | 225 kB 4.2 MB/s eta 0:00:01\r\u001b[K     |██████▊                         | 235 kB 4.2 MB/s eta 0:00:01\r\u001b[K     |███████                         | 245 kB 4.2 MB/s eta 0:00:01\r\u001b[K     |███████▍                        | 256 kB 4.2 MB/s eta 0:00:01\r\u001b[K     |███████▋                        | 266 kB 4.2 MB/s eta 0:00:01\r\u001b[K     |████████                        | 276 kB 4.2 MB/s eta 0:00:01\r\u001b[K     |████████▎                       | 286 kB 4.2 MB/s eta 0:00:01\r\u001b[K     |████████▌                       | 296 kB 4.2 MB/s eta 0:00:01\r\u001b[K     |████████▉                       | 307 kB 4.2 MB/s eta 0:00:01\r\u001b[K     |█████████                       | 317 kB 4.2 MB/s eta 0:00:01\r\u001b[K     |█████████▍                      | 327 kB 4.2 MB/s eta 0:00:01\r\u001b[K     |█████████▊                      | 337 kB 4.2 MB/s eta 0:00:01\r\u001b[K     |██████████                      | 348 kB 4.2 MB/s eta 0:00:01\r\u001b[K     |██████████▎                     | 358 kB 4.2 MB/s eta 0:00:01\r\u001b[K     |██████████▋                     | 368 kB 4.2 MB/s eta 0:00:01\r\u001b[K     |██████████▉                     | 378 kB 4.2 MB/s eta 0:00:01\r\u001b[K     |███████████▏                    | 389 kB 4.2 MB/s eta 0:00:01\r\u001b[K     |███████████▌                    | 399 kB 4.2 MB/s eta 0:00:01\r\u001b[K     |███████████▊                    | 409 kB 4.2 MB/s eta 0:00:01\r\u001b[K     |████████████                    | 419 kB 4.2 MB/s eta 0:00:01\r\u001b[K     |████████████▍                   | 430 kB 4.2 MB/s eta 0:00:01\r\u001b[K     |████████████▋                   | 440 kB 4.2 MB/s eta 0:00:01\r\u001b[K     |█████████████                   | 450 kB 4.2 MB/s eta 0:00:01\r\u001b[K     |█████████████▎                  | 460 kB 4.2 MB/s eta 0:00:01\r\u001b[K     |█████████████▌                  | 471 kB 4.2 MB/s eta 0:00:01\r\u001b[K     |█████████████▉                  | 481 kB 4.2 MB/s eta 0:00:01\r\u001b[K     |██████████████                  | 491 kB 4.2 MB/s eta 0:00:01\r\u001b[K     |██████████████▍                 | 501 kB 4.2 MB/s eta 0:00:01\r\u001b[K     |██████████████▊                 | 512 kB 4.2 MB/s eta 0:00:01\r\u001b[K     |███████████████                 | 522 kB 4.2 MB/s eta 0:00:01\r\u001b[K     |███████████████▎                | 532 kB 4.2 MB/s eta 0:00:01\r\u001b[K     |███████████████▋                | 542 kB 4.2 MB/s eta 0:00:01\r\u001b[K     |███████████████▉                | 552 kB 4.2 MB/s eta 0:00:01\r\u001b[K     |████████████████▏               | 563 kB 4.2 MB/s eta 0:00:01\r\u001b[K     |████████████████▌               | 573 kB 4.2 MB/s eta 0:00:01\r\u001b[K     |████████████████▊               | 583 kB 4.2 MB/s eta 0:00:01\r\u001b[K     |█████████████████               | 593 kB 4.2 MB/s eta 0:00:01\r\u001b[K     |█████████████████▍              | 604 kB 4.2 MB/s eta 0:00:01\r\u001b[K     |█████████████████▋              | 614 kB 4.2 MB/s eta 0:00:01\r\u001b[K     |██████████████████              | 624 kB 4.2 MB/s eta 0:00:01\r\u001b[K     |██████████████████▏             | 634 kB 4.2 MB/s eta 0:00:01\r\u001b[K     |██████████████████▌             | 645 kB 4.2 MB/s eta 0:00:01\r\u001b[K     |██████████████████▉             | 655 kB 4.2 MB/s eta 0:00:01\r\u001b[K     |███████████████████             | 665 kB 4.2 MB/s eta 0:00:01\r\u001b[K     |███████████████████▍            | 675 kB 4.2 MB/s eta 0:00:01\r\u001b[K     |███████████████████▊            | 686 kB 4.2 MB/s eta 0:00:01\r\u001b[K     |████████████████████            | 696 kB 4.2 MB/s eta 0:00:01\r\u001b[K     |████████████████████▎           | 706 kB 4.2 MB/s eta 0:00:01\r\u001b[K     |████████████████████▋           | 716 kB 4.2 MB/s eta 0:00:01\r\u001b[K     |████████████████████▉           | 727 kB 4.2 MB/s eta 0:00:01\r\u001b[K     |█████████████████████▏          | 737 kB 4.2 MB/s eta 0:00:01\r\u001b[K     |█████████████████████▌          | 747 kB 4.2 MB/s eta 0:00:01\r\u001b[K     |█████████████████████▊          | 757 kB 4.2 MB/s eta 0:00:01\r\u001b[K     |██████████████████████          | 768 kB 4.2 MB/s eta 0:00:01\r\u001b[K     |██████████████████████▎         | 778 kB 4.2 MB/s eta 0:00:01\r\u001b[K     |██████████████████████▋         | 788 kB 4.2 MB/s eta 0:00:01\r\u001b[K     |███████████████████████         | 798 kB 4.2 MB/s eta 0:00:01\r\u001b[K     |███████████████████████▏        | 808 kB 4.2 MB/s eta 0:00:01\r\u001b[K     |███████████████████████▌        | 819 kB 4.2 MB/s eta 0:00:01\r\u001b[K     |███████████████████████▉        | 829 kB 4.2 MB/s eta 0:00:01\r\u001b[K     |████████████████████████        | 839 kB 4.2 MB/s eta 0:00:01\r\u001b[K     |████████████████████████▍       | 849 kB 4.2 MB/s eta 0:00:01\r\u001b[K     |████████████████████████▊       | 860 kB 4.2 MB/s eta 0:00:01\r\u001b[K     |█████████████████████████       | 870 kB 4.2 MB/s eta 0:00:01\r\u001b[K     |█████████████████████████▎      | 880 kB 4.2 MB/s eta 0:00:01\r\u001b[K     |█████████████████████████▋      | 890 kB 4.2 MB/s eta 0:00:01\r\u001b[K     |█████████████████████████▉      | 901 kB 4.2 MB/s eta 0:00:01\r\u001b[K     |██████████████████████████▏     | 911 kB 4.2 MB/s eta 0:00:01\r\u001b[K     |██████████████████████████▌     | 921 kB 4.2 MB/s eta 0:00:01\r\u001b[K     |██████████████████████████▊     | 931 kB 4.2 MB/s eta 0:00:01\r\u001b[K     |███████████████████████████     | 942 kB 4.2 MB/s eta 0:00:01\r\u001b[K     |███████████████████████████▎    | 952 kB 4.2 MB/s eta 0:00:01\r\u001b[K     |███████████████████████████▋    | 962 kB 4.2 MB/s eta 0:00:01\r\u001b[K     |████████████████████████████    | 972 kB 4.2 MB/s eta 0:00:01\r\u001b[K     |████████████████████████████▏   | 983 kB 4.2 MB/s eta 0:00:01\r\u001b[K     |████████████████████████████▌   | 993 kB 4.2 MB/s eta 0:00:01\r\u001b[K     |████████████████████████████▉   | 1.0 MB 4.2 MB/s eta 0:00:01\r\u001b[K     |█████████████████████████████   | 1.0 MB 4.2 MB/s eta 0:00:01\r\u001b[K     |█████████████████████████████▍  | 1.0 MB 4.2 MB/s eta 0:00:01\r\u001b[K     |█████████████████████████████▊  | 1.0 MB 4.2 MB/s eta 0:00:01\r\u001b[K     |██████████████████████████████  | 1.0 MB 4.2 MB/s eta 0:00:01\r\u001b[K     |██████████████████████████████▎ | 1.1 MB 4.2 MB/s eta 0:00:01\r\u001b[K     |██████████████████████████████▋ | 1.1 MB 4.2 MB/s eta 0:00:01\r\u001b[K     |██████████████████████████████▉ | 1.1 MB 4.2 MB/s eta 0:00:01\r\u001b[K     |███████████████████████████████▏| 1.1 MB 4.2 MB/s eta 0:00:01\r\u001b[K     |███████████████████████████████▍| 1.1 MB 4.2 MB/s eta 0:00:01\r\u001b[K     |███████████████████████████████▊| 1.1 MB 4.2 MB/s eta 0:00:01\r\u001b[K     |████████████████████████████████| 1.1 MB 4.2 MB/s \n",
            "\u001b[?25hRequirement already satisfied: typeguard>=2.7 in /usr/local/lib/python3.7/dist-packages (from tensorflow-addons) (2.7.1)\n",
            "Installing collected packages: tensorflow-addons\n",
            "Successfully installed tensorflow-addons-0.15.0\n"
          ]
        }
      ]
    },
    {
      "cell_type": "code",
      "metadata": {
        "colab": {
          "resources": {
            "http://localhost:8080/nbextensions/google.colab/files.js": {
              "data": "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",
              "ok": true,
              "headers": [
                [
                  "content-type",
                  "application/javascript"
                ]
              ],
              "status": 200,
              "status_text": ""
            }
          },
          "base_uri": "https://localhost:8080/",
          "height": 91
        },
        "id": "hmuqHHUX07uV",
        "outputId": "a8677f9d-f0fd-4dc8-8f9d-c7a15474d468"
      },
      "source": [
        "from google.colab import files\n",
        "files.upload()"
      ],
      "execution_count": null,
      "outputs": [
        {
          "output_type": "display_data",
          "data": {
            "text/html": [
              "\n",
              "     <input type=\"file\" id=\"files-edaeca95-1ab6-4ad6-b6c5-03c6bab747a1\" name=\"files[]\" multiple disabled\n",
              "        style=\"border:none\" />\n",
              "     <output id=\"result-edaeca95-1ab6-4ad6-b6c5-03c6bab747a1\">\n",
              "      Upload widget is only available when the cell has been executed in the\n",
              "      current browser session. Please rerun this cell to enable.\n",
              "      </output>\n",
              "      <script src=\"/nbextensions/google.colab/files.js\"></script> "
            ],
            "text/plain": [
              "<IPython.core.display.HTML object>"
            ]
          },
          "metadata": {}
        },
        {
          "output_type": "stream",
          "name": "stdout",
          "text": [
            "Saving kaggle.json to kaggle.json\n"
          ]
        },
        {
          "output_type": "execute_result",
          "data": {
            "text/plain": [
              "{'kaggle.json': b'{\"username\":\"earthoer\",\"key\":\"27126ba387179e2d61db97ba01327a52\"}'}"
            ]
          },
          "metadata": {},
          "execution_count": 5
        }
      ]
    },
    {
      "cell_type": "code",
      "metadata": {
        "id": "0UWUik792lS5"
      },
      "source": [
        "!mkdir -p ~/.kaggle\n",
        "!cp kaggle.json ~/.kaggle/"
      ],
      "execution_count": null,
      "outputs": []
    },
    {
      "cell_type": "code",
      "metadata": {
        "id": "N-69OmEGlZo4"
      },
      "source": [
        "!chmod 600 /root/.kaggle/kaggle.json"
      ],
      "execution_count": null,
      "outputs": []
    },
    {
      "cell_type": "code",
      "metadata": {
        "colab": {
          "base_uri": "https://localhost:8080/"
        },
        "id": "7wHAWNV-VraQ",
        "outputId": "8f77a77a-5c46-451c-979b-30719d62df0c"
      },
      "source": [
        "print(tf.config.list_physical_devices('GPU'))"
      ],
      "execution_count": null,
      "outputs": [
        {
          "name": "stdout",
          "output_type": "stream",
          "text": [
            "[]\n"
          ]
        }
      ]
    },
    {
      "cell_type": "code",
      "metadata": {
        "id": "ukVNQkRwUd41"
      },
      "source": [
        "!cp ./kaggle.json ~/.kaggle"
      ],
      "execution_count": null,
      "outputs": []
    },
    {
      "cell_type": "code",
      "metadata": {
        "id": "RlrWPCppdEGt",
        "colab": {
          "base_uri": "https://localhost:8080/"
        },
        "outputId": "2fa2e988-5cdf-456d-c312-c9fdebb0b5d4"
      },
      "source": [
        "from google.colab import drive\n",
        "drive.flush_and_unmount()"
      ],
      "execution_count": null,
      "outputs": [
        {
          "output_type": "stream",
          "name": "stdout",
          "text": [
            "Drive not mounted, so nothing to flush and unmount.\n"
          ]
        }
      ]
    },
    {
      "cell_type": "markdown",
      "metadata": {
        "id": "s9C_WID7kEvH"
      },
      "source": [
        "# start\n"
      ]
    },
    {
      "cell_type": "code",
      "metadata": {
        "colab": {
          "base_uri": "https://localhost:8080/"
        },
        "id": "vf4varS7ed7W",
        "outputId": "ae49abc6-e258-485c-9017-b79c5ac00471"
      },
      "source": [
        "from google.colab import drive\n",
        "drive.mount(\"/content/drive/\")\n",
        "# %cd \"./drive/MyDrive/mlproject/\"\n"
      ],
      "execution_count": null,
      "outputs": [
        {
          "output_type": "stream",
          "name": "stdout",
          "text": [
            "Drive already mounted at /content/drive/; to attempt to forcibly remount, call drive.mount(\"/content/drive/\", force_remount=True).\n"
          ]
        }
      ]
    },
    {
      "cell_type": "code",
      "metadata": {
        "id": "WDrPcwtwYg4k",
        "colab": {
          "base_uri": "https://localhost:8080/"
        },
        "outputId": "174f4c59-ceab-474b-c20a-e6ae0964e7cd"
      },
      "source": [
        "!pip install iterative_stratification -q\n",
        "!pip install tensorflow-addons\n",
        "%cd \"./drive/MyDrive/mlproject/\"\n",
        "from tensorflow.keras import Sequential                                          \n",
        "from tensorflow.keras.layers import Dense, Activation,Flatten\n",
        "from sklearn.model_selection import KFold\n",
        "from tensorflow.keras import optimizers\n",
        "import pandas as pd\n",
        "import numpy as np\n",
        "import os\n",
        "import tensorflow as tf\n",
        "import cv2\n",
        "import matplotlib.pyplot as plt\n",
        "from os import walk\n",
        "from tensorflow.keras.layers import Dense, Flatten,Conv2D, MaxPooling2D, Activation,AveragePooling2D,InputLayer\n",
        "from tensorflow.keras.models import Sequential\n",
        "from tensorflow.keras.optimizers import SGD,Adam\n",
        "from sklearn import preprocessing\n",
        "from sklearn.preprocessing import MultiLabelBinarizer\n",
        "from tensorflow.keras.applications.resnet50 import ResNet50\n",
        "from tensorflow.keras.applications import ResNet50V2,ResNet101V2,EfficientNetB0,EfficientNetB7,MobileNetV2,VGG16,MobileNetV2,VGG19,EfficientNetB3\n",
        "from tensorflow.keras.callbacks import EarlyStopping, ModelCheckpoint, Callback, ReduceLROnPlateau\n",
        "from iterstrat.ml_stratifiers import MultilabelStratifiedKFold\n",
        "from keras.models import Model\n",
        "from sklearn.model_selection import train_test_split\n",
        "from google.colab.patches import cv2_imshow\n",
        "from keras_preprocessing import image\n",
        "from keras.layers import BatchNormalization\n",
        "from keras.layers import Dropout\n",
        "from IPython.display import clear_output \n",
        "from keras import layers,Sequential\n",
        "import keras \n",
        "from tensorflow.keras.preprocessing.image import ImageDataGenerator\n",
        "from tensorflow.keras.backend import clear_session\n",
        "import tqdm.notebook as tq\n",
        "from tqdm import tqdm\n",
        "import os\n",
        "import logging\n",
        "import warnings\n",
        "import tensorflow_addons as tfa\n",
        "from tensorflow_addons.metrics import FBetaScore \n",
        "warnings.filterwarnings('ignore')\n",
        "logging.getLogger(\"tensorflow\").setLevel(logging.ERROR)\n",
        "import keras.applications\n",
        "label = [\"cloudy\",\"partly_cloudy\",\"clear\",\"haze\",\"primary\",\"water\",\"habitation\",\"agriculture\",\"road\",\"cultivation\",\"bare_ground\",\"slash_burn\",\"selective_logging\",\"blooming\",\"conventional_mine\",\"artisinal_mine\",\"blow_down\"]\n",
        "rawtrain = pd.read_csv(\"./train_2.csv\",header=None)\n",
        "path = \"./train-jpg/\"\n",
        "pathimg = \"./train-jpg/train_\"\n",
        "pd.set_option('display.max_rows', None)\n",
        "pd.set_option('display.max_columns', None)\n",
        "pd.set_option('display.width', None)\n",
        "pd.set_option('display.max_colwidth', -1)"
      ],
      "execution_count": null,
      "outputs": [
        {
          "output_type": "stream",
          "name": "stdout",
          "text": [
            "Requirement already satisfied: tensorflow-addons in /usr/local/lib/python3.7/dist-packages (0.15.0)\n",
            "Requirement already satisfied: typeguard>=2.7 in /usr/local/lib/python3.7/dist-packages (from tensorflow-addons) (2.7.1)\n",
            "/content/drive/.shortcut-targets-by-id/14eBjEcEj_EnANUvNakfdKHEjy_FU_p2n/mlproject\n"
          ]
        }
      ]
    },
    {
      "cell_type": "code",
      "metadata": {
        "id": "G9MKfummguuV"
      },
      "source": [
        "size = 128\n",
        "inputshape= (size,size,3)\n",
        "batchsize = 128\n",
        "dropoutrate = 0.5\n",
        "epoch = 5\n",
        "lr = 1e-4\n",
        "nfolds =5\n",
        "THRES = [0.2] * 17 # Threshold for truth value of label, applied on sigmoid output.\n",
        "# path\n"
      ],
      "execution_count": null,
      "outputs": []
    },
    {
      "cell_type": "markdown",
      "metadata": {
        "id": "NaotqoySATxl"
      },
      "source": [
        "ไม่ต้องรันช่องด้านล่าง ลบส่วนก่อนหน้าไปแล้ว\n"
      ]
    },
    {
      "cell_type": "code",
      "metadata": {
        "colab": {
          "base_uri": "https://localhost:8080/",
          "height": 592
        },
        "id": "AqmBrzohkuRl",
        "outputId": "82c0ac09-965b-4bf9-b9eb-22dee214cb73"
      },
      "source": [
        "label_count.plot(kind='barh',figsize =(15,10))\n",
        "for i in range(label_count.shape[0]):\n",
        "  plt.text(label_count.iloc[i] + 4,i,label_count.iloc[i],va='center')"
      ],
      "execution_count": null,
      "outputs": [
        {
          "data": {
            "image/png": "[encoded data removed]",
            "text/plain": [
              "<Figure size 1080x720 with 1 Axes>"
            ]
          },
          "metadata": {},
          "output_type": "display_data"
        }
      ]
    },
    {
      "cell_type": "code",
      "metadata": {
        "id": "LdzgoLqQqOyT"
      },
      "source": [
        "train_pic  = \"./data/train-jpg\"\n",
        "train_csv = pd.read_csv(\"./data/train_v2.csv\")\n",
        "\n",
        "test_pic = \"./test/test-jpg\"\n",
        "test_csv = pd.read_csv(\"./test/sample_submission.csv\")\n",
        "\n",
        "train_csv['image_name'] = train_csv['image_name'].astype(str) + '.jpg'\n",
        "test_csv['image_name'] = test_csv['image_name'].astype(str)+ '.jpg'\n",
        "\n",
        "test_csv['tags'] = test_csv['tags'].apply(lambda x : x.split(' '))\n",
        "test_csv.head()\n",
        "X_train_files = np.array(train_csv['image_name'].tolist())\n",
        "y_train = np.array(train_csv['tags'].tolist())\n",
        "\n"
      ],
      "execution_count": null,
      "outputs": []
    },
    {
      "cell_type": "code",
      "metadata": {
        "colab": {
          "base_uri": "https://localhost:8080/"
        },
        "id": "TQP6iKec8URV",
        "outputId": "5521338f-00ab-4767-d120-382216ffb418"
      },
      "source": [
        "train_csv.shape\n"
      ],
      "execution_count": null,
      "outputs": [
        {
          "output_type": "execute_result",
          "data": {
            "text/plain": [
              "(40479, 2)"
            ]
          },
          "metadata": {},
          "execution_count": 9
        }
      ]
    },
    {
      "cell_type": "code",
      "metadata": {
        "colab": {
          "base_uri": "https://localhost:8080/"
        },
        "id": "nbUOJmZ6vw7_",
        "outputId": "67c88b92-9a0f-47a5-f4d9-057c7bea7f12"
      },
      "source": [
        "label = []\n",
        "for tag in train_csv['tags'].values:\n",
        "  temp = tag.split(' ')\n",
        "  for i in temp:\n",
        "    if i not in label:\n",
        "      label.append(i)\n",
        "label.sort()\n",
        "label"
      ],
      "execution_count": null,
      "outputs": [
        {
          "output_type": "execute_result",
          "data": {
            "text/plain": [
              "['agriculture',\n",
              " 'artisinal_mine',\n",
              " 'bare_ground',\n",
              " 'blooming',\n",
              " 'blow_down',\n",
              " 'clear',\n",
              " 'cloudy',\n",
              " 'conventional_mine',\n",
              " 'cultivation',\n",
              " 'habitation',\n",
              " 'haze',\n",
              " 'partly_cloudy',\n",
              " 'primary',\n",
              " 'road',\n",
              " 'selective_logging',\n",
              " 'slash_burn',\n",
              " 'water']"
            ]
          },
          "metadata": {},
          "execution_count": 6
        }
      ]
    },
    {
      "cell_type": "code",
      "metadata": {
        "colab": {
          "base_uri": "https://localhost:8080/"
        },
        "id": "3kPji_uDF4DQ",
        "outputId": "60274eec-63db-448f-8936-7b97140d8e85"
      },
      "source": [
        "l = np.array(label)\n",
        "l.shape\n",
        "\n"
      ],
      "execution_count": null,
      "outputs": [
        {
          "output_type": "execute_result",
          "data": {
            "text/plain": [
              "(17,)"
            ]
          },
          "metadata": {},
          "execution_count": 19
        }
      ]
    },
    {
      "cell_type": "code",
      "metadata": {
        "colab": {
          "base_uri": "https://localhost:8080/"
        },
        "id": "iDgYOQnAwx6_",
        "outputId": "2caaf19a-7c85-4f41-fcfb-511083b8fb85"
      },
      "source": [
        "def create_model():\n",
        "    model = Sequential()\n",
        "    model.add(InputLayer(inputshape))\n",
        "    model.add(VGG16(weights='imagenet', include_top=False))\n",
        "    # model.add(BatchNormalization())\n",
        "    model.add(Flatten())   \n",
        "    model.add(Dense(17, activation='sigmoid'))\n",
        "    return model\n",
        "\n",
        "clear_session()\n",
        "\n",
        "model = create_model()\n",
        "model.summary()"
      ],
      "execution_count": null,
      "outputs": [
        {
          "output_type": "stream",
          "name": "stdout",
          "text": [
            "Model: \"sequential\"\n",
            "_________________________________________________________________\n",
            " Layer (type)                Output Shape              Param #   \n",
            "=================================================================\n",
            " vgg16 (Functional)          (None, None, None, 512)   14714688  \n",
            "                                                                 \n",
            " flatten (Flatten)           (None, 8192)              0         \n",
            "                                                                 \n",
            " dense (Dense)               (None, 17)                139281    \n",
            "                                                                 \n",
            "=================================================================\n",
            "Total params: 14,853,969\n",
            "Trainable params: 14,853,969\n",
            "Non-trainable params: 0\n",
            "_________________________________________________________________\n"
          ]
        }
      ]
    },
    {
      "cell_type": "code",
      "metadata": {
        "id": "btsE2OIlxYhH"
      },
      "source": [
        "def f2_score(y_true, y_pred):\n",
        "    y_true = tf.cast(y_true, \"int32\")\n",
        "    y_pred = tf.cast(tf.round(y_pred), \"int32\")\n",
        "    y_correct = y_true * y_pred\n",
        "    sum_true = tf.reduce_sum(y_true, axis=1)\n",
        "    sum_pred = tf.reduce_sum(y_pred, axis=1)\n",
        "    sum_correct = tf.reduce_sum(y_correct, axis=1)\n",
        "    precision = sum_correct / sum_pred\n",
        "    recall = sum_correct / sum_true\n",
        "    f_score = 5 * precision * recall / (4 * precision + recall)\n",
        "    f_score = tf.where(tf.math.is_nan(f_score), tf.zeros_like(f_score), f_score)\n",
        "    return tf.reduce_mean(f_score)"
      ],
      "execution_count": null,
      "outputs": []
    },
    {
      "cell_type": "code",
      "metadata": {
        "colab": {
          "base_uri": "https://localhost:8080/",
          "height": 1000
        },
        "id": "2CVIW1Eoxi3n",
        "outputId": "c1c75912-d805-4870-c301-d7991d781dc9"
      },
      "source": [
        "num_fold = 0\n",
        "\n",
        "y_test = []\n",
        "\n",
        "folds = KFold(n_splits=nfolds, shuffle=True, random_state=1).split(X_train_files, y_train)\n",
        "\n",
        "for train_index, val_index in folds:\n",
        "    X_train_files_fold = X_train_files[train_index]\n",
        "    y_train_fold = y_train[train_index]\n",
        "    X_val_files_fold = X_train_files[val_index]\n",
        "    y_val_fold = np.array(y_train[val_index])\n",
        "    \n",
        "    train_df = pd.DataFrame(list(zip(X_train_files_fold, y_train_fold)), columns = ['image_name', 'tags'])\n",
        "    val_df = pd.DataFrame(list(zip(X_val_files_fold, y_val_fold)), columns = ['image_name', 'tags'])\n",
        "    \n",
        "    train_df['tags'] = train_df['tags'].apply(lambda x: x.split(' '))\n",
        "    val_df['tags'] = val_df['tags'].apply(lambda x: x.split(' '))\n",
        "\n",
        "    train_datagen = ImageDataGenerator(\n",
        "        rescale=1./255,\n",
        "        width_shift_range=0.2,\n",
        "        height_shift_range=0.2,\n",
        "        horizontal_flip=True,\n",
        "        vertical_flip=True\n",
        "    )\n",
        "    \n",
        "    train_generator = train_datagen.flow_from_dataframe(\n",
        "        train_df,\n",
        "        directory=train_pic,\n",
        "        x_col='image_name',\n",
        "        y_col='tags',\n",
        "        target_size=(inputshape[0], inputshape[1]),\n",
        "        class_mode='categorical',\n",
        "        batch_size=batchsize,\n",
        "        classes=label,\n",
        "    )\n",
        "    \n",
        "    val_datagen = ImageDataGenerator(\n",
        "        rescale=1./255\n",
        "    )\n",
        "    \n",
        "    val_generator = val_datagen.flow_from_dataframe(\n",
        "        val_df,\n",
        "        directory=train_pic,\n",
        "        x_col='image_name',\n",
        "        y_col='tags',\n",
        "        target_size=(inputshape[0], inputshape[1]),\n",
        "        class_mode='categorical',\n",
        "        batch_size=batchsize,\n",
        "        classes=label,\n",
        "    )\n",
        "    \n",
        "    test_datagen = ImageDataGenerator(\n",
        "        rescale=1./255\n",
        "    )\n",
        "    \n",
        "    test_generator = test_datagen.flow_from_dataframe(\n",
        "        test_csv,\n",
        "        directory=test_pic,\n",
        "        x_col='image_name',\n",
        "        y_col='tags',\n",
        "        target_size=(inputshape[0], inputshape[1]),\n",
        "        class_mode='categorical',\n",
        "        batch_size=batchsize,\n",
        "        classes=label,\n",
        "        shuffle=False,\n",
        "    )\n",
        "\n",
        "    model_path_of_fold = os.path.join('', 'weights_of_fold_' + str(num_fold) + '.h5')\n",
        "    \n",
        "    clear_session()\n",
        "    model = create_model()\n",
        "    \n",
        "    adam = Adam(learning_rate=lr)\n",
        "    model.compile(loss='binary_crossentropy', optimizer=adam, metrics=[f2_score])\n",
        "\n",
        "    callbacks = [\n",
        "        ModelCheckpoint(model_path_of_fold, monitor='val_f2_score', save_best_only=True, mode='max'),\n",
        "        ReduceLROnPlateau(monitor='loss', factor=0.1, patience=3, mode='min', min_lr=1e-5)\n",
        "    ]\n",
        "    \n",
        "    history = model.fit_generator(train_generator, epochs=epoch, validation_data=val_generator, callbacks=callbacks)\n",
        "\n",
        "    plt.plot(history.history['f2_score'])\n",
        "    plt.plot(history.history['val_f2_score'])\n",
        "    plt.title('CNN model loss')\n",
        "    plt.ylabel('loss')\n",
        "\n",
        "    plt.xlabel('epoch')\n",
        "    plt.show()\n",
        "\n",
        "    model.load_weights(model_path_of_fold)\n",
        "\n",
        "    p_test = model.predict_generator(test_generator)\n",
        "\n",
        "    y_test.append(p_test)"
      ],
      "execution_count": null,
      "outputs": [
        {
          "output_type": "stream",
          "name": "stdout",
          "text": [
            "Found 32383 validated image filenames belonging to 17 classes.\n",
            "Found 8096 validated image filenames belonging to 17 classes.\n",
            "Found 61191 validated image filenames belonging to 17 classes.\n",
            "Epoch 1/5\n",
            "253/253 [==============================] - 247s 973ms/step - loss: 0.1499 - f2_score: 0.8112 - val_loss: 0.1160 - val_f2_score: 0.8669 - lr: 1.0000e-04\n",
            "Epoch 2/5\n",
            "253/253 [==============================] - 247s 976ms/step - loss: 0.1149 - f2_score: 0.8628 - val_loss: 0.1079 - val_f2_score: 0.8753 - lr: 1.0000e-04\n",
            "Epoch 3/5\n",
            "253/253 [==============================] - 247s 975ms/step - loss: 0.1074 - f2_score: 0.8731 - val_loss: 0.1013 - val_f2_score: 0.8915 - lr: 1.0000e-04\n",
            "Epoch 4/5\n",
            "253/253 [==============================] - 246s 970ms/step - loss: 0.1048 - f2_score: 0.8773 - val_loss: 0.0976 - val_f2_score: 0.8942 - lr: 1.0000e-04\n",
            "Epoch 5/5\n",
            "253/253 [==============================] - 245s 966ms/step - loss: 0.1014 - f2_score: 0.8812 - val_loss: 0.0972 - val_f2_score: 0.8924 - lr: 1.0000e-04\n"
          ]
        },
        {
          "output_type": "display_data",
          "data": {
            "image/png": "[encoded data removed]",
            "text/plain": [
              "<Figure size 432x288 with 1 Axes>"
            ]
          },
          "metadata": {
            "needs_background": "light"
          }
        },
        {
          "output_type": "stream",
          "name": "stdout",
          "text": [
            "Found 32383 validated image filenames belonging to 17 classes.\n",
            "Found 8096 validated image filenames belonging to 17 classes.\n",
            "Found 61191 validated image filenames belonging to 17 classes.\n",
            "Epoch 1/5\n",
            "253/253 [==============================] - 245s 965ms/step - loss: 0.1583 - f2_score: 0.8012 - val_loss: 0.1244 - val_f2_score: 0.8675 - lr: 1.0000e-04\n",
            "Epoch 2/5\n",
            "253/253 [==============================] - 242s 954ms/step - loss: 0.1171 - f2_score: 0.8612 - val_loss: 0.1035 - val_f2_score: 0.8804 - lr: 1.0000e-04\n",
            "Epoch 3/5\n",
            "253/253 [==============================] - 240s 949ms/step - loss: 0.1093 - f2_score: 0.8716 - val_loss: 0.1040 - val_f2_score: 0.8908 - lr: 1.0000e-04\n",
            "Epoch 4/5\n",
            "253/253 [==============================] - 240s 948ms/step - loss: 0.1049 - f2_score: 0.8769 - val_loss: 0.0990 - val_f2_score: 0.8921 - lr: 1.0000e-04\n",
            "Epoch 5/5\n",
            "253/253 [==============================] - 239s 942ms/step - loss: 0.1017 - f2_score: 0.8806 - val_loss: 0.0953 - val_f2_score: 0.8886 - lr: 1.0000e-04\n"
          ]
        },
        {
          "output_type": "display_data",
          "data": {
            "image/png": "[encoded data removed]",
            "text/plain": [
              "<Figure size 432x288 with 1 Axes>"
            ]
          },
          "metadata": {
            "needs_background": "light"
          }
        },
        {
          "output_type": "stream",
          "name": "stdout",
          "text": [
            "Found 32383 validated image filenames belonging to 17 classes.\n",
            "Found 8096 validated image filenames belonging to 17 classes.\n",
            "Found 61191 validated image filenames belonging to 17 classes.\n",
            "Epoch 1/5\n",
            "253/253 [==============================] - 239s 942ms/step - loss: 0.1606 - f2_score: 0.7926 - val_loss: 0.1207 - val_f2_score: 0.8700 - lr: 1.0000e-04\n",
            "Epoch 2/5\n",
            "253/253 [==============================] - 240s 949ms/step - loss: 0.1178 - f2_score: 0.8583 - val_loss: 0.1067 - val_f2_score: 0.8805 - lr: 1.0000e-04\n",
            "Epoch 3/5\n",
            "253/253 [==============================] - 239s 945ms/step - loss: 0.1097 - f2_score: 0.8706 - val_loss: 0.1018 - val_f2_score: 0.8831 - lr: 1.0000e-04\n",
            "Epoch 4/5\n",
            "253/253 [==============================] - 240s 950ms/step - loss: 0.1039 - f2_score: 0.8777 - val_loss: 0.0976 - val_f2_score: 0.8918 - lr: 1.0000e-04\n",
            "Epoch 5/5\n",
            "253/253 [==============================] - 241s 950ms/step - loss: 0.1018 - f2_score: 0.8812 - val_loss: 0.0976 - val_f2_score: 0.8937 - lr: 1.0000e-04\n"
          ]
        },
        {
          "output_type": "display_data",
          "data": {
            "image/png": "[encoded data removed]",
            "text/plain": [
              "<Figure size 432x288 with 1 Axes>"
            ]
          },
          "metadata": {
            "needs_background": "light"
          }
        },
        {
          "output_type": "stream",
          "name": "stdout",
          "text": [
            "Found 32383 validated image filenames belonging to 17 classes.\n",
            "Found 8096 validated image filenames belonging to 17 classes.\n",
            "Found 61191 validated image filenames belonging to 17 classes.\n",
            "Epoch 1/5\n",
            "253/253 [==============================] - 241s 949ms/step - loss: 0.1605 - f2_score: 0.8002 - val_loss: 0.1186 - val_f2_score: 0.8577 - lr: 1.0000e-04\n",
            "Epoch 2/5\n",
            "253/253 [==============================] - 241s 954ms/step - loss: 0.1182 - f2_score: 0.8598 - val_loss: 0.1105 - val_f2_score: 0.8586 - lr: 1.0000e-04\n",
            "Epoch 3/5\n",
            "253/253 [==============================] - 244s 965ms/step - loss: 0.1099 - f2_score: 0.8696 - val_loss: 0.1018 - val_f2_score: 0.8936 - lr: 1.0000e-04\n",
            "Epoch 4/5\n",
            "253/253 [==============================] - 247s 975ms/step - loss: 0.1052 - f2_score: 0.8767 - val_loss: 0.0993 - val_f2_score: 0.8860 - lr: 1.0000e-04\n",
            "Epoch 5/5\n",
            "253/253 [==============================] - 244s 963ms/step - loss: 0.1024 - f2_score: 0.8801 - val_loss: 0.0990 - val_f2_score: 0.8933 - lr: 1.0000e-04\n"
          ]
        },
        {
          "output_type": "display_data",
          "data": {
            "image/png": "[encoded data removed]",
            "text/plain": [
              "<Figure size 432x288 with 1 Axes>"
            ]
          },
          "metadata": {
            "needs_background": "light"
          }
        },
        {
          "output_type": "stream",
          "name": "stdout",
          "text": [
            "Found 32384 validated image filenames belonging to 17 classes.\n",
            "Found 8095 validated image filenames belonging to 17 classes.\n",
            "Found 61191 validated image filenames belonging to 17 classes.\n",
            "Epoch 1/5\n",
            "253/253 [==============================] - 249s 979ms/step - loss: 0.1525 - f2_score: 0.8092 - val_loss: 0.1123 - val_f2_score: 0.8648 - lr: 1.0000e-04\n",
            "Epoch 2/5\n",
            "253/253 [==============================] - 251s 990ms/step - loss: 0.1151 - f2_score: 0.8638 - val_loss: 0.1012 - val_f2_score: 0.8876 - lr: 1.0000e-04\n",
            "Epoch 3/5\n",
            "253/253 [==============================] - 247s 976ms/step - loss: 0.1086 - f2_score: 0.8716 - val_loss: 0.1046 - val_f2_score: 0.8817 - lr: 1.0000e-04\n",
            "Epoch 4/5\n",
            "253/253 [==============================] - 249s 983ms/step - loss: 0.1047 - f2_score: 0.8769 - val_loss: 0.1001 - val_f2_score: 0.8925 - lr: 1.0000e-04\n",
            "Epoch 5/5\n",
            "253/253 [==============================] - 240s 949ms/step - loss: 0.1016 - f2_score: 0.8817 - val_loss: 0.1009 - val_f2_score: 0.8856 - lr: 1.0000e-04\n"
          ]
        },
        {
          "output_type": "display_data",
          "data": {
            "image/png": "[encoded data removed]",
            "text/plain": [
              "<Figure size 432x288 with 1 Axes>"
            ]
          },
          "metadata": {
            "needs_background": "light"
          }
        }
      ]
    },
    {
      "cell_type": "code",
      "metadata": {
        "id": "57l9kP2v1M16",
        "colab": {
          "base_uri": "https://localhost:8080/",
          "height": 205
        },
        "outputId": "34a758ed-b42e-42b2-946d-3c940d27f44c"
      },
      "source": [
        "result = np.array(y_test[0])\n",
        "for i in range(1, nfolds):\n",
        "    result += np.array(y_test[i])\n",
        "result /= nfolds\n",
        "result = pd.DataFrame(result, columns = label)\n",
        "result.head()"
      ],
      "execution_count": null,
      "outputs": [
        {
          "output_type": "execute_result",
          "data": {
            "text/html": [
              "<div>\n",
              "<style scoped>\n",
              "    .dataframe tbody tr th:only-of-type {\n",
              "        vertical-align: middle;\n",
              "    }\n",
              "\n",
              "    .dataframe tbody tr th {\n",
              "        vertical-align: top;\n",
              "    }\n",
              "\n",
              "    .dataframe thead th {\n",
              "        text-align: right;\n",
              "    }\n",
              "</style>\n",
              "<table border=\"1\" class=\"dataframe\">\n",
              "  <thead>\n",
              "    <tr style=\"text-align: right;\">\n",
              "      <th></th>\n",
              "      <th>agriculture</th>\n",
              "      <th>artisinal_mine</th>\n",
              "      <th>bare_ground</th>\n",
              "      <th>blooming</th>\n",
              "      <th>blow_down</th>\n",
              "      <th>clear</th>\n",
              "      <th>cloudy</th>\n",
              "      <th>conventional_mine</th>\n",
              "      <th>cultivation</th>\n",
              "      <th>habitation</th>\n",
              "      <th>haze</th>\n",
              "      <th>partly_cloudy</th>\n",
              "      <th>primary</th>\n",
              "      <th>road</th>\n",
              "      <th>selective_logging</th>\n",
              "      <th>slash_burn</th>\n",
              "      <th>water</th>\n",
              "    </tr>\n",
              "  </thead>\n",
              "  <tbody>\n",
              "    <tr>\n",
              "      <th>0</th>\n",
              "      <td>0.006126</td>\n",
              "      <td>0.000064</td>\n",
              "      <td>0.000247</td>\n",
              "      <td>0.022758</td>\n",
              "      <td>0.000555</td>\n",
              "      <td>0.994566</td>\n",
              "      <td>0.000020</td>\n",
              "      <td>0.000007</td>\n",
              "      <td>0.005056</td>\n",
              "      <td>0.000925</td>\n",
              "      <td>0.000771</td>\n",
              "      <td>0.004002</td>\n",
              "      <td>0.999964</td>\n",
              "      <td>0.002624</td>\n",
              "      <td>0.002690</td>\n",
              "      <td>0.000078</td>\n",
              "      <td>0.005752</td>\n",
              "    </tr>\n",
              "    <tr>\n",
              "      <th>1</th>\n",
              "      <td>0.017602</td>\n",
              "      <td>0.000162</td>\n",
              "      <td>0.000555</td>\n",
              "      <td>0.030820</td>\n",
              "      <td>0.001671</td>\n",
              "      <td>0.975411</td>\n",
              "      <td>0.000011</td>\n",
              "      <td>0.000016</td>\n",
              "      <td>0.014536</td>\n",
              "      <td>0.001685</td>\n",
              "      <td>0.000297</td>\n",
              "      <td>0.028926</td>\n",
              "      <td>0.999979</td>\n",
              "      <td>0.003801</td>\n",
              "      <td>0.006008</td>\n",
              "      <td>0.000373</td>\n",
              "      <td>0.008347</td>\n",
              "    </tr>\n",
              "    <tr>\n",
              "      <th>2</th>\n",
              "      <td>0.080619</td>\n",
              "      <td>0.000919</td>\n",
              "      <td>0.003321</td>\n",
              "      <td>0.000378</td>\n",
              "      <td>0.000921</td>\n",
              "      <td>0.000022</td>\n",
              "      <td>0.002552</td>\n",
              "      <td>0.000456</td>\n",
              "      <td>0.026363</td>\n",
              "      <td>0.004123</td>\n",
              "      <td>0.000222</td>\n",
              "      <td>0.999119</td>\n",
              "      <td>0.996863</td>\n",
              "      <td>0.025695</td>\n",
              "      <td>0.000765</td>\n",
              "      <td>0.001595</td>\n",
              "      <td>0.112812</td>\n",
              "    </tr>\n",
              "    <tr>\n",
              "      <th>3</th>\n",
              "      <td>0.458780</td>\n",
              "      <td>0.000286</td>\n",
              "      <td>0.003086</td>\n",
              "      <td>0.005453</td>\n",
              "      <td>0.001992</td>\n",
              "      <td>0.794869</td>\n",
              "      <td>0.000015</td>\n",
              "      <td>0.000070</td>\n",
              "      <td>0.449941</td>\n",
              "      <td>0.006939</td>\n",
              "      <td>0.001681</td>\n",
              "      <td>0.275235</td>\n",
              "      <td>0.999972</td>\n",
              "      <td>0.020765</td>\n",
              "      <td>0.004789</td>\n",
              "      <td>0.001703</td>\n",
              "      <td>0.055860</td>\n",
              "    </tr>\n",
              "    <tr>\n",
              "      <th>4</th>\n",
              "      <td>0.075832</td>\n",
              "      <td>0.000897</td>\n",
              "      <td>0.002177</td>\n",
              "      <td>0.000175</td>\n",
              "      <td>0.000258</td>\n",
              "      <td>0.000448</td>\n",
              "      <td>0.228036</td>\n",
              "      <td>0.000181</td>\n",
              "      <td>0.017569</td>\n",
              "      <td>0.008184</td>\n",
              "      <td>0.002436</td>\n",
              "      <td>0.861451</td>\n",
              "      <td>0.786628</td>\n",
              "      <td>0.027510</td>\n",
              "      <td>0.000303</td>\n",
              "      <td>0.000467</td>\n",
              "      <td>0.073094</td>\n",
              "    </tr>\n",
              "  </tbody>\n",
              "</table>\n",
              "</div>"
            ],
            "text/plain": [
              "   agriculture  artisinal_mine  bare_ground  blooming  blow_down     clear  \\\n",
              "0  0.006126     0.000064        0.000247     0.022758  0.000555   0.994566   \n",
              "1  0.017602     0.000162        0.000555     0.030820  0.001671   0.975411   \n",
              "2  0.080619     0.000919        0.003321     0.000378  0.000921   0.000022   \n",
              "3  0.458780     0.000286        0.003086     0.005453  0.001992   0.794869   \n",
              "4  0.075832     0.000897        0.002177     0.000175  0.000258   0.000448   \n",
              "\n",
              "     cloudy  conventional_mine  cultivation  habitation      haze  \\\n",
              "0  0.000020  0.000007           0.005056     0.000925    0.000771   \n",
              "1  0.000011  0.000016           0.014536     0.001685    0.000297   \n",
              "2  0.002552  0.000456           0.026363     0.004123    0.000222   \n",
              "3  0.000015  0.000070           0.449941     0.006939    0.001681   \n",
              "4  0.228036  0.000181           0.017569     0.008184    0.002436   \n",
              "\n",
              "   partly_cloudy   primary      road  selective_logging  slash_burn     water  \n",
              "0  0.004002       0.999964  0.002624  0.002690           0.000078    0.005752  \n",
              "1  0.028926       0.999979  0.003801  0.006008           0.000373    0.008347  \n",
              "2  0.999119       0.996863  0.025695  0.000765           0.001595    0.112812  \n",
              "3  0.275235       0.999972  0.020765  0.004789           0.001703    0.055860  \n",
              "4  0.861451       0.786628  0.027510  0.000303           0.000467    0.073094  "
            ]
          },
          "metadata": {},
          "execution_count": 14
        }
      ]
    },
    {
      "cell_type": "code",
      "metadata": {
        "colab": {
          "base_uri": "https://localhost:8080/"
        },
        "id": "6Dr1nw1uz8OO",
        "outputId": "c67bdd12-8273-4c96-e8f8-bfe79da7f31d"
      },
      "source": [
        "resultb = result.apply(lambda x:x>THRES,axis =1)\n",
        "for i in range(0,20):\n",
        "  for j in label:\n",
        "    if(resultb[j][i]==True):\n",
        "      print(j,\" \",end='')\n",
        "  print(\"\")\n",
        "\n",
        "    \n"
      ],
      "execution_count": null,
      "outputs": [
        {
          "output_type": "stream",
          "name": "stdout",
          "text": [
            "clear  primary  \n",
            "clear  primary  \n",
            "partly_cloudy  primary  \n",
            "agriculture  clear  cultivation  partly_cloudy  primary  \n",
            "cloudy  partly_cloudy  primary  \n",
            "clear  primary  \n",
            "agriculture  clear  cultivation  habitation  primary  road  water  \n",
            "agriculture  clear  habitation  primary  road  \n",
            "clear  primary  \n",
            "agriculture  clear  cultivation  haze  primary  \n",
            "partly_cloudy  primary  water  \n",
            "agriculture  clear  cultivation  primary  \n",
            "cloudy  \n",
            "agriculture  clear  cultivation  primary  \n",
            "agriculture  clear  cultivation  primary  \n",
            "clear  primary  \n",
            "agriculture  clear  cultivation  habitation  primary  road  \n",
            "partly_cloudy  primary  \n",
            "clear  haze  primary  \n",
            "clear  primary  road  water  \n"
          ]
        }
      ]
    },
    {
      "cell_type": "code",
      "metadata": {
        "id": "jNmVYQVWAyC1"
      },
      "source": [
        "model = keras.models.load_model('./my_model', custom_objects=None, compile=False, options=None)"
      ],
      "execution_count": null,
      "outputs": []
    },
    {
      "cell_type": "code",
      "metadata": {
        "id": "g1Th78gU1Xyj"
      },
      "source": [
        "model.save(\"./my_model\")"
      ],
      "execution_count": null,
      "outputs": []
    },
    {
      "cell_type": "code",
      "metadata": {
        "id": "n1K0-Dvc1ROY"
      },
      "source": [
        "preds = []\n",
        "for i in range(result.shape[0]):\n",
        "    a = result.loc[[i]]\n",
        "    a = a.apply(lambda x: x > THRES, axis=1)\n",
        "    a = a.transpose()\n",
        "    a = a.loc[a[i] == True]\n",
        "    ' '.join(list(a.index))\n",
        "    preds.append(' '.join(list(a.index)))\n",
        "    \n",
        "test_csv['tags'] = preds\n",
        "test_csv['image_name'] = test_csv['image_name'].astype(str).str.slice(stop=-4)\n",
        "test_csv.to_csv('submit_new.csv', index=False)\n"
      ],
      "execution_count": null,
      "outputs": []
    }
  ]
}